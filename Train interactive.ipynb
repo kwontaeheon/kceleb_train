{
 "cells": [
  {
   "cell_type": "code",
   "execution_count": 1,
   "id": "5e3bd183",
   "metadata": {},
   "outputs": [
    {
     "name": "stdout",
     "output_type": "stream",
     "text": [
      "Requirement already satisfied: pip in /home/terry/miniconda3/envs/mlp/lib/python3.9/site-packages (23.3.2)\n",
      "Requirement already satisfied: setuptools in /home/terry/miniconda3/envs/mlp/lib/python3.9/site-packages (69.0.3)\n",
      "Requirement already satisfied: wheel in /home/terry/miniconda3/envs/mlp/lib/python3.9/site-packages (0.42.0)\n",
      "Requirement already satisfied: opencv-python in /home/terry/miniconda3/envs/mlp/lib/python3.9/site-packages (4.9.0.80)\n",
      "Requirement already satisfied: tensorflow==2.8.3 in /home/terry/miniconda3/envs/mlp/lib/python3.9/site-packages (2.8.3)\n",
      "Requirement already satisfied: absl-py>=0.4.0 in /home/terry/miniconda3/envs/mlp/lib/python3.9/site-packages (from tensorflow==2.8.3) (1.3.0)\n",
      "Requirement already satisfied: astunparse>=1.6.0 in /home/terry/miniconda3/envs/mlp/lib/python3.9/site-packages (from tensorflow==2.8.3) (1.6.3)\n",
      "Requirement already satisfied: flatbuffers>=1.12 in /home/terry/miniconda3/envs/mlp/lib/python3.9/site-packages (from tensorflow==2.8.3) (22.9.24)\n",
      "Requirement already satisfied: gast>=0.2.1 in /home/terry/miniconda3/envs/mlp/lib/python3.9/site-packages (from tensorflow==2.8.3) (0.4.0)\n",
      "Requirement already satisfied: google-pasta>=0.1.1 in /home/terry/miniconda3/envs/mlp/lib/python3.9/site-packages (from tensorflow==2.8.3) (0.2.0)\n",
      "Requirement already satisfied: h5py>=2.9.0 in /home/terry/miniconda3/envs/mlp/lib/python3.9/site-packages (from tensorflow==2.8.3) (3.7.0)\n",
      "Requirement already satisfied: keras-preprocessing>=1.1.1 in /home/terry/miniconda3/envs/mlp/lib/python3.9/site-packages (from tensorflow==2.8.3) (1.1.2)\n",
      "Requirement already satisfied: libclang>=9.0.1 in /home/terry/miniconda3/envs/mlp/lib/python3.9/site-packages (from tensorflow==2.8.3) (14.0.6)\n",
      "Requirement already satisfied: numpy>=1.20 in /home/terry/miniconda3/envs/mlp/lib/python3.9/site-packages (from tensorflow==2.8.3) (1.23.4)\n",
      "Requirement already satisfied: opt-einsum>=2.3.2 in /home/terry/miniconda3/envs/mlp/lib/python3.9/site-packages (from tensorflow==2.8.3) (3.3.0)\n",
      "Requirement already satisfied: protobuf<3.20,>=3.9.2 in /home/terry/miniconda3/envs/mlp/lib/python3.9/site-packages (from tensorflow==2.8.3) (3.19.6)\n",
      "Requirement already satisfied: six>=1.12.0 in /home/terry/miniconda3/envs/mlp/lib/python3.9/site-packages (from tensorflow==2.8.3) (1.16.0)\n",
      "Requirement already satisfied: termcolor>=1.1.0 in /home/terry/miniconda3/envs/mlp/lib/python3.9/site-packages (from tensorflow==2.8.3) (2.0.1)\n",
      "Requirement already satisfied: typing-extensions>=3.6.6 in /home/terry/miniconda3/envs/mlp/lib/python3.9/site-packages (from tensorflow==2.8.3) (4.4.0)\n",
      "Requirement already satisfied: wrapt>=1.11.0 in /home/terry/miniconda3/envs/mlp/lib/python3.9/site-packages (from tensorflow==2.8.3) (1.14.1)\n",
      "Requirement already satisfied: tensorboard<2.9,>=2.8 in /home/terry/miniconda3/envs/mlp/lib/python3.9/site-packages (from tensorflow==2.8.3) (2.8.0)\n",
      "Requirement already satisfied: tensorflow-estimator<2.9,>=2.8 in /home/terry/miniconda3/envs/mlp/lib/python3.9/site-packages (from tensorflow==2.8.3) (2.8.0)\n",
      "Requirement already satisfied: keras<2.9,>=2.8.0rc0 in /home/terry/miniconda3/envs/mlp/lib/python3.9/site-packages (from tensorflow==2.8.3) (2.8.0)\n",
      "Requirement already satisfied: tensorflow-io-gcs-filesystem>=0.23.1 in /home/terry/miniconda3/envs/mlp/lib/python3.9/site-packages (from tensorflow==2.8.3) (0.27.0)\n",
      "Requirement already satisfied: grpcio<2.0,>=1.24.3 in /home/terry/miniconda3/envs/mlp/lib/python3.9/site-packages (from tensorflow==2.8.3) (1.50.0)\n",
      "Requirement already satisfied: google-auth<3,>=1.6.3 in /home/terry/miniconda3/envs/mlp/lib/python3.9/site-packages (from tensorboard<2.9,>=2.8->tensorflow==2.8.3) (2.13.0)\n",
      "Requirement already satisfied: google-auth-oauthlib<0.5,>=0.4.1 in /home/terry/miniconda3/envs/mlp/lib/python3.9/site-packages (from tensorboard<2.9,>=2.8->tensorflow==2.8.3) (0.4.6)\n",
      "Requirement already satisfied: markdown>=2.6.8 in /home/terry/miniconda3/envs/mlp/lib/python3.9/site-packages (from tensorboard<2.9,>=2.8->tensorflow==2.8.3) (3.4.1)\n",
      "Requirement already satisfied: requests<3,>=2.21.0 in /home/terry/miniconda3/envs/mlp/lib/python3.9/site-packages (from tensorboard<2.9,>=2.8->tensorflow==2.8.3) (2.28.1)\n",
      "Requirement already satisfied: tensorboard-data-server<0.7.0,>=0.6.0 in /home/terry/miniconda3/envs/mlp/lib/python3.9/site-packages (from tensorboard<2.9,>=2.8->tensorflow==2.8.3) (0.6.1)\n",
      "Requirement already satisfied: tensorboard-plugin-wit>=1.6.0 in /home/terry/miniconda3/envs/mlp/lib/python3.9/site-packages (from tensorboard<2.9,>=2.8->tensorflow==2.8.3) (1.8.1)\n",
      "Requirement already satisfied: werkzeug>=0.11.15 in /home/terry/miniconda3/envs/mlp/lib/python3.9/site-packages (from tensorboard<2.9,>=2.8->tensorflow==2.8.3) (2.2.2)\n",
      "Requirement already satisfied: cachetools<6.0,>=2.0.0 in /home/terry/miniconda3/envs/mlp/lib/python3.9/site-packages (from google-auth<3,>=1.6.3->tensorboard<2.9,>=2.8->tensorflow==2.8.3) (5.2.0)\n",
      "Requirement already satisfied: pyasn1-modules>=0.2.1 in /home/terry/miniconda3/envs/mlp/lib/python3.9/site-packages (from google-auth<3,>=1.6.3->tensorboard<2.9,>=2.8->tensorflow==2.8.3) (0.2.8)\n",
      "Requirement already satisfied: rsa<5,>=3.1.4 in /home/terry/miniconda3/envs/mlp/lib/python3.9/site-packages (from google-auth<3,>=1.6.3->tensorboard<2.9,>=2.8->tensorflow==2.8.3) (4.9)\n",
      "Requirement already satisfied: requests-oauthlib>=0.7.0 in /home/terry/miniconda3/envs/mlp/lib/python3.9/site-packages (from google-auth-oauthlib<0.5,>=0.4.1->tensorboard<2.9,>=2.8->tensorflow==2.8.3) (1.3.1)\n",
      "Requirement already satisfied: importlib-metadata>=4.4 in /home/terry/miniconda3/envs/mlp/lib/python3.9/site-packages (from markdown>=2.6.8->tensorboard<2.9,>=2.8->tensorflow==2.8.3) (5.0.0)\n",
      "Requirement already satisfied: charset-normalizer<3,>=2 in /home/terry/miniconda3/envs/mlp/lib/python3.9/site-packages (from requests<3,>=2.21.0->tensorboard<2.9,>=2.8->tensorflow==2.8.3) (2.1.1)\n",
      "Requirement already satisfied: idna<4,>=2.5 in /home/terry/miniconda3/envs/mlp/lib/python3.9/site-packages (from requests<3,>=2.21.0->tensorboard<2.9,>=2.8->tensorflow==2.8.3) (3.4)\n",
      "Requirement already satisfied: urllib3<1.27,>=1.21.1 in /home/terry/miniconda3/envs/mlp/lib/python3.9/site-packages (from requests<3,>=2.21.0->tensorboard<2.9,>=2.8->tensorflow==2.8.3) (1.25.11)\n",
      "Requirement already satisfied: certifi>=2017.4.17 in /home/terry/miniconda3/envs/mlp/lib/python3.9/site-packages (from requests<3,>=2.21.0->tensorboard<2.9,>=2.8->tensorflow==2.8.3) (2022.9.24)\n",
      "Requirement already satisfied: MarkupSafe>=2.1.1 in /home/terry/miniconda3/envs/mlp/lib/python3.9/site-packages (from werkzeug>=0.11.15->tensorboard<2.9,>=2.8->tensorflow==2.8.3) (2.1.1)\n",
      "Requirement already satisfied: zipp>=0.5 in /home/terry/miniconda3/envs/mlp/lib/python3.9/site-packages (from importlib-metadata>=4.4->markdown>=2.6.8->tensorboard<2.9,>=2.8->tensorflow==2.8.3) (3.9.0)\n",
      "Requirement already satisfied: pyasn1<0.5.0,>=0.4.6 in /home/terry/miniconda3/envs/mlp/lib/python3.9/site-packages (from pyasn1-modules>=0.2.1->google-auth<3,>=1.6.3->tensorboard<2.9,>=2.8->tensorflow==2.8.3) (0.4.8)\n",
      "Requirement already satisfied: oauthlib>=3.0.0 in /home/terry/miniconda3/envs/mlp/lib/python3.9/site-packages (from requests-oauthlib>=0.7.0->google-auth-oauthlib<0.5,>=0.4.1->tensorboard<2.9,>=2.8->tensorflow==2.8.3) (3.2.2)\n",
      "Note: you may need to restart the kernel to use updated packages.\n"
     ]
    }
   ],
   "source": [
    "%pip install --upgrade pip setuptools wheel opencv-python"
   ]
  },
  {
   "cell_type": "code",
   "execution_count": 7,
   "id": "540f7c88",
   "metadata": {},
   "outputs": [
    {
     "name": "stderr",
     "output_type": "stream",
     "text": [
      "\n",
      "WARNING: apt does not have a stable CLI interface. Use with caution in scripts.\n",
      "\n"
     ]
    },
    {
     "name": "stdout",
     "output_type": "stream",
     "text": [
      "Reading package lists...\n",
      "Building dependency tree...\n",
      "Reading state information...\n",
      "The following packages were automatically installed and are no longer required:\n",
      "  linux-headers-5.4.0-131 linux-headers-5.4.0-131-generic\n",
      "  linux-image-unsigned-5.4.0-131-generic linux-modules-5.4.0-131-generic\n",
      "Use 'sudo apt autoremove' to remove them.\n",
      "The following additional packages will be installed:\n",
      "  hdf5-helpers libaec-dev libaec0 libgfortran5 libhdf5-103 libhdf5-cpp-103\n",
      "  libjpeg-dev libjpeg-turbo8-dev libjpeg8-dev libsz2\n",
      "Suggested packages:\n",
      "  libhdf5-doc\n",
      "The following NEW packages will be installed:\n",
      "  hdf5-helpers libaec-dev libaec0 libgfortran5 libhdf5-103 libhdf5-cpp-103\n",
      "  libhdf5-dev libjpeg-dev libjpeg-turbo8-dev libjpeg8-dev libsz2\n",
      "0 upgraded, 11 newly installed, 0 to remove and 485 not upgraded.\n",
      "Need to get 5,052 kB of archives.\n",
      "After this operation, 21.6 MB of additional disk space will be used.\n",
      "Get:1 http://mirror.kakao.com/ubuntu focal/universe amd64 hdf5-helpers amd64 1.10.4+repack-11ubuntu1 [13.6 kB]\n",
      "Get:2 http://mirror.kakao.com/ubuntu focal/universe amd64 libaec0 amd64 1.0.4-1 [19.1 kB]\n",
      "Get:3 http://mirror.kakao.com/ubuntu focal-updates/main amd64 libgfortran5 amd64 10.5.0-1ubuntu1~20.04 [737 kB]\n",
      "Get:4 http://mirror.kakao.com/ubuntu focal/universe amd64 libsz2 amd64 1.0.4-1 [5,188 B]\n",
      "Get:5 http://mirror.kakao.com/ubuntu focal/universe amd64 libhdf5-103 amd64 1.10.4+repack-11ubuntu1 [1,311 kB]\n",
      "Get:6 http://mirror.kakao.com/ubuntu focal/universe amd64 libhdf5-cpp-103 amd64 1.10.4+repack-11ubuntu1 [120 kB]\n",
      "Get:7 http://mirror.kakao.com/ubuntu focal-updates/main amd64 libjpeg-turbo8-dev amd64 2.0.3-0ubuntu1.20.04.3 [238 kB]\n",
      "Get:8 http://mirror.kakao.com/ubuntu focal/main amd64 libjpeg8-dev amd64 8c-2ubuntu8 [1,552 B]\n",
      "Get:9 http://mirror.kakao.com/ubuntu focal/main amd64 libjpeg-dev amd64 8c-2ubuntu8 [1,546 B]\n",
      "Get:10 http://mirror.kakao.com/ubuntu focal/universe amd64 libaec-dev amd64 1.0.4-1 [16.9 kB]\n",
      "Get:11 http://mirror.kakao.com/ubuntu focal/universe amd64 libhdf5-dev amd64 1.10.4+repack-11ubuntu1 [2,589 kB]\n"
     ]
    },
    {
     "name": "stderr",
     "output_type": "stream",
     "text": [
      "dpkg-preconfigure: unable to re-open stdin: No such file or directory\n"
     ]
    },
    {
     "name": "stdout",
     "output_type": "stream",
     "text": [
      "Fetched 5,052 kB in 0s (14.2 MB/s)\n",
      "Selecting previously unselected package hdf5-helpers.\n",
      "(Reading database ... 396616 files and directories currently installed.)\n",
      "Preparing to unpack .../00-hdf5-helpers_1.10.4+repack-11ubuntu1_amd64.deb ...\n",
      "Unpacking hdf5-helpers (1.10.4+repack-11ubuntu1) ...\n",
      "Selecting previously unselected package libaec0:amd64.\n",
      "Preparing to unpack .../01-libaec0_1.0.4-1_amd64.deb ...\n",
      "Unpacking libaec0:amd64 (1.0.4-1) ...\n",
      "Selecting previously unselected package libgfortran5:amd64.\n",
      "Preparing to unpack .../02-libgfortran5_10.5.0-1ubuntu1~20.04_amd64.deb ...\n",
      "Unpacking libgfortran5:amd64 (10.5.0-1ubuntu1~20.04) ...\n",
      "Selecting previously unselected package libsz2:amd64.\n",
      "Preparing to unpack .../03-libsz2_1.0.4-1_amd64.deb ...\n",
      "Unpacking libsz2:amd64 (1.0.4-1) ...\n",
      "Selecting previously unselected package libhdf5-103:amd64.\n",
      "Preparing to unpack .../04-libhdf5-103_1.10.4+repack-11ubuntu1_amd64.deb ...\n",
      "Unpacking libhdf5-103:amd64 (1.10.4+repack-11ubuntu1) ...\n",
      "Selecting previously unselected package libhdf5-cpp-103:amd64.\n",
      "Preparing to unpack .../05-libhdf5-cpp-103_1.10.4+repack-11ubuntu1_amd64.deb ...\n",
      "Unpacking libhdf5-cpp-103:amd64 (1.10.4+repack-11ubuntu1) ...\n",
      "Selecting previously unselected package libjpeg-turbo8-dev:amd64.\n",
      "Preparing to unpack .../06-libjpeg-turbo8-dev_2.0.3-0ubuntu1.20.04.3_amd64.deb ...\n",
      "Unpacking libjpeg-turbo8-dev:amd64 (2.0.3-0ubuntu1.20.04.3) ...\n",
      "Selecting previously unselected package libjpeg8-dev:amd64.\n",
      "Preparing to unpack .../07-libjpeg8-dev_8c-2ubuntu8_amd64.deb ...\n",
      "Unpacking libjpeg8-dev:amd64 (8c-2ubuntu8) ...\n",
      "Selecting previously unselected package libjpeg-dev:amd64.\n",
      "Preparing to unpack .../08-libjpeg-dev_8c-2ubuntu8_amd64.deb ...\n",
      "Unpacking libjpeg-dev:amd64 (8c-2ubuntu8) ...\n",
      "Selecting previously unselected package libaec-dev:amd64.\n",
      "Preparing to unpack .../09-libaec-dev_1.0.4-1_amd64.deb ...\n",
      "Unpacking libaec-dev:amd64 (1.0.4-1) ...\n",
      "Selecting previously unselected package libhdf5-dev.\n",
      "Preparing to unpack .../10-libhdf5-dev_1.10.4+repack-11ubuntu1_amd64.deb ...\n",
      "Unpacking libhdf5-dev (1.10.4+repack-11ubuntu1) ...\n",
      "Setting up libjpeg-turbo8-dev:amd64 (2.0.3-0ubuntu1.20.04.3) ...\n",
      "Setting up hdf5-helpers (1.10.4+repack-11ubuntu1) ...\n",
      "Setting up libaec0:amd64 (1.0.4-1) ...\n",
      "Setting up libgfortran5:amd64 (10.5.0-1ubuntu1~20.04) ...\n",
      "Setting up libjpeg8-dev:amd64 (8c-2ubuntu8) ...\n",
      "Setting up libsz2:amd64 (1.0.4-1) ...\n",
      "Setting up libaec-dev:amd64 (1.0.4-1) ...\n",
      "Setting up libjpeg-dev:amd64 (8c-2ubuntu8) ...\n",
      "Setting up libhdf5-103:amd64 (1.10.4+repack-11ubuntu1) ...\n",
      "Setting up libhdf5-cpp-103:amd64 (1.10.4+repack-11ubuntu1) ...\n",
      "Setting up libhdf5-dev (1.10.4+repack-11ubuntu1) ...\n",
      "update-alternatives: using /usr/lib/x86_64-linux-gnu/pkgconfig/hdf5-serial.pc to provide /usr/lib/x86_64-linux-gnu/pkgconfig/hdf5.pc (hdf5.pc) in auto mode\n",
      "Processing triggers for man-db (2.9.1-1) ...\n",
      "Processing triggers for libc-bin (2.31-0ubuntu9.9) ...\n"
     ]
    }
   ],
   "source": [
    "%%bash\n",
    "sudo apt install -y libhdf5-dev"
   ]
  },
  {
   "cell_type": "code",
   "execution_count": 13,
   "id": "a04cddad",
   "metadata": {},
   "outputs": [
    {
     "name": "stdout",
     "output_type": "stream",
     "text": [
      "\u001b[33mWARNING: Ignoring invalid distribution -ensorboard (/home/terry/miniconda3/envs/mlp/lib/python3.9/site-packages)\u001b[0m\u001b[33m\n",
      "\u001b[0m\u001b[33mWARNING: Ignoring invalid distribution -ensorflow (/home/terry/miniconda3/envs/mlp/lib/python3.9/site-packages)\u001b[0m\u001b[33m\n",
      "\u001b[0mRequirement already satisfied: tensorflow==2.8.4 in /home/terry/miniconda3/envs/mlp/lib/python3.9/site-packages (2.8.4)\n",
      "Requirement already satisfied: tensorflow_datasets in /home/terry/miniconda3/envs/mlp/lib/python3.9/site-packages (4.7.0)\n",
      "Requirement already satisfied: tflite-model-maker in /home/terry/miniconda3/envs/mlp/lib/python3.9/site-packages (0.4.2)\n",
      "Requirement already satisfied: jax in /home/terry/miniconda3/envs/mlp/lib/python3.9/site-packages (0.3.23)\n",
      "Requirement already satisfied: jaxlib in /home/terry/miniconda3/envs/mlp/lib/python3.9/site-packages (0.3.22)\n",
      "Requirement already satisfied: opencv-python in /home/terry/miniconda3/envs/mlp/lib/python3.9/site-packages (4.9.0.80)\n",
      "Requirement already satisfied: pillow in /home/terry/miniconda3/envs/mlp/lib/python3.9/site-packages (9.2.0)\n",
      "Requirement already satisfied: matplotlib in /home/terry/miniconda3/envs/mlp/lib/python3.9/site-packages (3.4.3)\n",
      "Requirement already satisfied: tflite_support in /home/terry/miniconda3/envs/mlp/lib/python3.9/site-packages (0.4.2)\n",
      "Requirement already satisfied: lxml in /home/terry/miniconda3/envs/mlp/lib/python3.9/site-packages (4.9.1)\n",
      "Requirement already satisfied: scipy in /home/terry/miniconda3/envs/mlp/lib/python3.9/site-packages (1.9.3)\n",
      "Requirement already satisfied: etils in /home/terry/miniconda3/envs/mlp/lib/python3.9/site-packages (0.8.0)\n",
      "Collecting tensorflowjs==2.8.4\n",
      "  Downloading tensorflowjs-2.8.4-py3-none-any.whl (63 kB)\n",
      "\u001b[2K     \u001b[90m━━━━━━━━━━━━━━━━━━━━━━━━━━━━━━━━━━━━━━━━\u001b[0m \u001b[32m63.4/63.4 kB\u001b[0m \u001b[31m5.8 MB/s\u001b[0m eta \u001b[36m0:00:00\u001b[0m\n",
      "\u001b[?25hRequirement already satisfied: tensorflow_decision_forests in /home/terry/miniconda3/envs/mlp/lib/python3.9/site-packages (1.0.1)\n",
      "Requirement already satisfied: tensorflow_hub in /home/terry/miniconda3/envs/mlp/lib/python3.9/site-packages (0.9.0)\n",
      "Requirement already satisfied: scann==1.2.6 in /home/terry/miniconda3/envs/mlp/lib/python3.9/site-packages (1.2.6)\n",
      "Requirement already satisfied: absl-py>=0.4.0 in /home/terry/miniconda3/envs/mlp/lib/python3.9/site-packages (from tensorflow==2.8.4) (1.3.0)\n",
      "Requirement already satisfied: astunparse>=1.6.0 in /home/terry/miniconda3/envs/mlp/lib/python3.9/site-packages (from tensorflow==2.8.4) (1.6.3)\n",
      "Requirement already satisfied: flatbuffers>=1.12 in /home/terry/miniconda3/envs/mlp/lib/python3.9/site-packages (from tensorflow==2.8.4) (1.12)\n",
      "Requirement already satisfied: gast>=0.2.1 in /home/terry/miniconda3/envs/mlp/lib/python3.9/site-packages (from tensorflow==2.8.4) (0.4.0)\n",
      "Requirement already satisfied: google-pasta>=0.1.1 in /home/terry/miniconda3/envs/mlp/lib/python3.9/site-packages (from tensorflow==2.8.4) (0.2.0)\n",
      "Requirement already satisfied: h5py>=2.9.0 in /home/terry/miniconda3/envs/mlp/lib/python3.9/site-packages (from tensorflow==2.8.4) (2.10.0)\n",
      "Requirement already satisfied: keras-preprocessing>=1.1.1 in /home/terry/miniconda3/envs/mlp/lib/python3.9/site-packages (from tensorflow==2.8.4) (1.1.2)\n",
      "Requirement already satisfied: libclang>=9.0.1 in /home/terry/miniconda3/envs/mlp/lib/python3.9/site-packages (from tensorflow==2.8.4) (14.0.6)\n",
      "Requirement already satisfied: numpy>=1.20 in /home/terry/miniconda3/envs/mlp/lib/python3.9/site-packages (from tensorflow==2.8.4) (1.23.4)\n",
      "Requirement already satisfied: opt-einsum>=2.3.2 in /home/terry/miniconda3/envs/mlp/lib/python3.9/site-packages (from tensorflow==2.8.4) (3.3.0)\n",
      "Requirement already satisfied: protobuf<3.20,>=3.9.2 in /home/terry/miniconda3/envs/mlp/lib/python3.9/site-packages (from tensorflow==2.8.4) (3.19.6)\n",
      "Requirement already satisfied: setuptools in /home/terry/miniconda3/envs/mlp/lib/python3.9/site-packages (from tensorflow==2.8.4) (69.0.3)\n",
      "Requirement already satisfied: six>=1.12.0 in /home/terry/miniconda3/envs/mlp/lib/python3.9/site-packages (from tensorflow==2.8.4) (1.16.0)\n",
      "Requirement already satisfied: termcolor>=1.1.0 in /home/terry/miniconda3/envs/mlp/lib/python3.9/site-packages (from tensorflow==2.8.4) (2.0.1)\n",
      "Requirement already satisfied: typing-extensions>=3.6.6 in /home/terry/miniconda3/envs/mlp/lib/python3.9/site-packages (from tensorflow==2.8.4) (4.4.0)\n",
      "Requirement already satisfied: wrapt>=1.11.0 in /home/terry/miniconda3/envs/mlp/lib/python3.9/site-packages (from tensorflow==2.8.4) (1.14.1)\n",
      "Requirement already satisfied: tensorboard<2.9,>=2.8 in /home/terry/miniconda3/envs/mlp/lib/python3.9/site-packages (from tensorflow==2.8.4) (2.8.0)\n",
      "Requirement already satisfied: tensorflow-estimator<2.9,>=2.8 in /home/terry/miniconda3/envs/mlp/lib/python3.9/site-packages (from tensorflow==2.8.4) (2.8.0)\n",
      "Requirement already satisfied: keras<2.9,>=2.8.0rc0 in /home/terry/miniconda3/envs/mlp/lib/python3.9/site-packages (from tensorflow==2.8.4) (2.8.0)\n",
      "Requirement already satisfied: tensorflow-io-gcs-filesystem>=0.23.1 in /home/terry/miniconda3/envs/mlp/lib/python3.9/site-packages (from tensorflow==2.8.4) (0.27.0)\n",
      "Requirement already satisfied: grpcio<2.0,>=1.24.3 in /home/terry/miniconda3/envs/mlp/lib/python3.9/site-packages (from tensorflow==2.8.4) (1.50.0)\n",
      "Requirement already satisfied: dill in /home/terry/miniconda3/envs/mlp/lib/python3.9/site-packages (from tensorflow_datasets) (0.3.5.1)\n",
      "Requirement already satisfied: promise in /home/terry/miniconda3/envs/mlp/lib/python3.9/site-packages (from tensorflow_datasets) (2.3)\n",
      "Requirement already satisfied: requests>=2.19.0 in /home/terry/miniconda3/envs/mlp/lib/python3.9/site-packages (from tensorflow_datasets) (2.28.1)\n",
      "Requirement already satisfied: tensorflow-metadata in /home/terry/miniconda3/envs/mlp/lib/python3.9/site-packages (from tensorflow_datasets) (1.10.0)\n",
      "Requirement already satisfied: toml in /home/terry/miniconda3/envs/mlp/lib/python3.9/site-packages (from tensorflow_datasets) (0.10.2)\n",
      "Requirement already satisfied: tqdm in /home/terry/miniconda3/envs/mlp/lib/python3.9/site-packages (from tensorflow_datasets) (4.64.1)\n",
      "Requirement already satisfied: tf-models-official==2.3.0 in /home/terry/miniconda3/envs/mlp/lib/python3.9/site-packages (from tflite-model-maker) (2.3.0)\n",
      "Requirement already satisfied: sentencepiece>=0.1.91 in /home/terry/miniconda3/envs/mlp/lib/python3.9/site-packages (from tflite-model-maker) (0.1.97)\n",
      "Requirement already satisfied: fire>=0.3.1 in /home/terry/miniconda3/envs/mlp/lib/python3.9/site-packages (from tflite-model-maker) (0.4.0)\n",
      "Collecting flatbuffers>=1.12 (from tensorflow==2.8.4)\n",
      "  Downloading flatbuffers-23.5.26-py2.py3-none-any.whl.metadata (850 bytes)\n",
      "Requirement already satisfied: urllib3!=1.25.0,!=1.25.1,<1.26,>=1.21.1 in /home/terry/miniconda3/envs/mlp/lib/python3.9/site-packages (from tflite-model-maker) (1.25.11)\n",
      "Requirement already satisfied: numba==0.53 in /home/terry/miniconda3/envs/mlp/lib/python3.9/site-packages (from tflite-model-maker) (0.53.0)\n",
      "Requirement already satisfied: librosa==0.8.1 in /home/terry/miniconda3/envs/mlp/lib/python3.9/site-packages (from tflite-model-maker) (0.8.1)\n",
      "Requirement already satisfied: PyYAML>=5.1 in /home/terry/miniconda3/envs/mlp/lib/python3.9/site-packages (from tflite-model-maker) (6.0)\n",
      "Requirement already satisfied: tensorflow-addons>=0.11.2 in /home/terry/miniconda3/envs/mlp/lib/python3.9/site-packages (from tflite-model-maker) (0.18.0)\n",
      "Requirement already satisfied: neural-structured-learning>=1.3.1 in /home/terry/miniconda3/envs/mlp/lib/python3.9/site-packages (from tflite-model-maker) (1.4.0)\n",
      "Requirement already satisfied: tensorflow-model-optimization>=0.5 in /home/terry/miniconda3/envs/mlp/lib/python3.9/site-packages (from tflite-model-maker) (0.7.3)\n",
      "Requirement already satisfied: Cython>=0.29.13 in /home/terry/miniconda3/envs/mlp/lib/python3.9/site-packages (from tflite-model-maker) (0.29.32)\n",
      "Requirement already satisfied: audioread>=2.0.0 in /home/terry/miniconda3/envs/mlp/lib/python3.9/site-packages (from librosa==0.8.1->tflite-model-maker) (3.0.0)\n",
      "Requirement already satisfied: scikit-learn!=0.19.0,>=0.14.0 in /home/terry/miniconda3/envs/mlp/lib/python3.9/site-packages (from librosa==0.8.1->tflite-model-maker) (1.1.2)\n",
      "Requirement already satisfied: joblib>=0.14 in /home/terry/miniconda3/envs/mlp/lib/python3.9/site-packages (from librosa==0.8.1->tflite-model-maker) (1.2.0)\n",
      "Requirement already satisfied: decorator>=3.0.0 in /home/terry/miniconda3/envs/mlp/lib/python3.9/site-packages (from librosa==0.8.1->tflite-model-maker) (5.1.1)\n",
      "Requirement already satisfied: resampy>=0.2.2 in /home/terry/miniconda3/envs/mlp/lib/python3.9/site-packages (from librosa==0.8.1->tflite-model-maker) (0.4.2)\n",
      "Requirement already satisfied: soundfile>=0.10.2 in /home/terry/miniconda3/envs/mlp/lib/python3.9/site-packages (from librosa==0.8.1->tflite-model-maker) (0.11.0)\n",
      "Requirement already satisfied: pooch>=1.0 in /home/terry/miniconda3/envs/mlp/lib/python3.9/site-packages (from librosa==0.8.1->tflite-model-maker) (1.6.0)\n",
      "Requirement already satisfied: packaging>=20.0 in /home/terry/miniconda3/envs/mlp/lib/python3.9/site-packages (from librosa==0.8.1->tflite-model-maker) (20.9)\n",
      "Requirement already satisfied: llvmlite<0.37,>=0.36.0rc1 in /home/terry/miniconda3/envs/mlp/lib/python3.9/site-packages (from numba==0.53->tflite-model-maker) (0.36.0)\n",
      "Requirement already satisfied: dataclasses in /home/terry/miniconda3/envs/mlp/lib/python3.9/site-packages (from tf-models-official==2.3.0->tflite-model-maker) (0.6)\n",
      "Requirement already satisfied: gin-config in /home/terry/miniconda3/envs/mlp/lib/python3.9/site-packages (from tf-models-official==2.3.0->tflite-model-maker) (0.5.0)\n",
      "Requirement already satisfied: google-api-python-client>=1.6.7 in /home/terry/miniconda3/envs/mlp/lib/python3.9/site-packages (from tf-models-official==2.3.0->tflite-model-maker) (2.65.0)\n",
      "Requirement already satisfied: google-cloud-bigquery>=0.31.0 in /home/terry/miniconda3/envs/mlp/lib/python3.9/site-packages (from tf-models-official==2.3.0->tflite-model-maker) (3.3.5)\n",
      "Requirement already satisfied: kaggle>=1.3.9 in /home/terry/miniconda3/envs/mlp/lib/python3.9/site-packages (from tf-models-official==2.3.0->tflite-model-maker) (1.5.12)\n",
      "Requirement already satisfied: opencv-python-headless in /home/terry/miniconda3/envs/mlp/lib/python3.9/site-packages (from tf-models-official==2.3.0->tflite-model-maker) (4.6.0.66)\n",
      "Requirement already satisfied: pandas>=0.22.0 in /home/terry/miniconda3/envs/mlp/lib/python3.9/site-packages (from tf-models-official==2.3.0->tflite-model-maker) (1.5.1)\n",
      "Requirement already satisfied: psutil>=5.4.3 in /home/terry/miniconda3/envs/mlp/lib/python3.9/site-packages (from tf-models-official==2.3.0->tflite-model-maker) (5.9.3)\n",
      "Requirement already satisfied: py-cpuinfo>=3.3.0 in /home/terry/miniconda3/envs/mlp/lib/python3.9/site-packages (from tf-models-official==2.3.0->tflite-model-maker) (8.0.0)\n",
      "Requirement already satisfied: tf-slim>=1.1.0 in /home/terry/miniconda3/envs/mlp/lib/python3.9/site-packages (from tf-models-official==2.3.0->tflite-model-maker) (1.1.0)\n",
      "Requirement already satisfied: cycler>=0.10 in /home/terry/miniconda3/envs/mlp/lib/python3.9/site-packages (from matplotlib) (0.11.0)\n",
      "Requirement already satisfied: kiwisolver>=1.0.1 in /home/terry/miniconda3/envs/mlp/lib/python3.9/site-packages (from matplotlib) (1.4.4)\n",
      "Requirement already satisfied: pyparsing>=2.2.1 in /home/terry/miniconda3/envs/mlp/lib/python3.9/site-packages (from matplotlib) (3.0.9)\n",
      "Requirement already satisfied: python-dateutil>=2.7 in /home/terry/miniconda3/envs/mlp/lib/python3.9/site-packages (from matplotlib) (2.8.2)\n",
      "Requirement already satisfied: sounddevice>=0.4.4 in /home/terry/miniconda3/envs/mlp/lib/python3.9/site-packages (from tflite_support) (0.4.5)\n",
      "Requirement already satisfied: pybind11>=2.6.0 in /home/terry/miniconda3/envs/mlp/lib/python3.9/site-packages (from tflite_support) (2.10.0)\n",
      "INFO: pip is looking at multiple versions of tensorflow-decision-forests to determine which version is compatible with other requirements. This could take a while.\n",
      "Collecting tensorflow_decision_forests\n",
      "  Downloading tensorflow_decision_forests-1.8.1-cp39-cp39-manylinux_2_17_x86_64.manylinux2014_x86_64.whl.metadata (6.0 kB)\n",
      "  Downloading tensorflow_decision_forests-1.8.0-cp39-cp39-manylinux_2_17_x86_64.manylinux2014_x86_64.whl.metadata (6.0 kB)\n",
      "  Downloading tensorflow_decision_forests-1.7.0-cp39-cp39-manylinux_2_17_x86_64.manylinux2014_x86_64.whl.metadata (6.0 kB)\n",
      "  Downloading tensorflow_decision_forests-1.6.0-cp39-cp39-manylinux_2_17_x86_64.manylinux2014_x86_64.whl.metadata (6.0 kB)\n",
      "  Downloading tensorflow_decision_forests-1.5.0-cp39-cp39-manylinux_2_17_x86_64.manylinux2014_x86_64.whl.metadata (4.9 kB)\n",
      "  Downloading tensorflow_decision_forests-1.4.0-cp39-cp39-manylinux_2_17_x86_64.manylinux2014_x86_64.whl.metadata (4.8 kB)\n",
      "  Downloading tensorflow_decision_forests-1.3.0-cp39-cp39-manylinux_2_17_x86_64.manylinux2014_x86_64.whl (16.4 MB)\n",
      "\u001b[2K     \u001b[90m━━━━━━━━━━━━━━━━━━━━━━━━━━━━━━━━━━━━━━━━\u001b[0m \u001b[32m16.4/16.4 MB\u001b[0m \u001b[31m8.1 MB/s\u001b[0m eta \u001b[36m0:00:00\u001b[0m00:01\u001b[0m00:01\u001b[0m\n",
      "\u001b[?25hINFO: pip is still looking at multiple versions of tensorflow-decision-forests to determine which version is compatible with other requirements. This could take a while.\n",
      "  Downloading tensorflow_decision_forests-1.2.0-cp39-cp39-manylinux_2_17_x86_64.manylinux2014_x86_64.whl (16.5 MB)\n",
      "\u001b[2K     \u001b[90m━━━━━━━━━━━━━━━━━━━━━━━━━━━━━━━━━━━━━━━━\u001b[0m \u001b[32m16.5/16.5 MB\u001b[0m \u001b[31m3.4 MB/s\u001b[0m eta \u001b[36m0:00:00\u001b[0m00:01\u001b[0m00:01\u001b[0m\n",
      "\u001b[?25h  Downloading tensorflow_decision_forests-1.1.0-cp39-cp39-manylinux_2_17_x86_64.manylinux2014_x86_64.whl (16.2 MB)\n",
      "\u001b[2K     \u001b[90m━━━━━━━━━━━━━━━━━━━━━━━━━━━━━━━━━━━━━━━━\u001b[0m \u001b[32m16.2/16.2 MB\u001b[0m \u001b[31m4.3 MB/s\u001b[0m eta \u001b[36m0:00:00\u001b[0m00:01\u001b[0m00:01\u001b[0m\n",
      "\u001b[?25h  Downloading tensorflow_decision_forests-0.2.7-cp39-cp39-manylinux_2_17_x86_64.manylinux2014_x86_64.whl (16.0 MB)\n",
      "\u001b[2K     \u001b[90m━━━━━━━━━━━━━━━━━━━━━━━━━━━━━━━━━━━━━━━━\u001b[0m \u001b[32m16.0/16.0 MB\u001b[0m \u001b[31m2.7 MB/s\u001b[0m eta \u001b[36m0:00:00\u001b[0m00:01\u001b[0m00:01\u001b[0m\n",
      "\u001b[?25h  Downloading tensorflow_decision_forests-0.2.6-cp39-cp39-manylinux_2_17_x86_64.manylinux2014_x86_64.whl (15.8 MB)\n",
      "\u001b[2K     \u001b[90m━━━━━━━━━━━━━━━━━━━━━━━━━━━━━━━━━━━━━━━━\u001b[0m \u001b[32m15.8/15.8 MB\u001b[0m \u001b[31m3.6 MB/s\u001b[0m eta \u001b[36m0:00:00\u001b[0m00:01\u001b[0m00:01\u001b[0m\n",
      "\u001b[?25h  Downloading tensorflow_decision_forests-0.2.5-cp39-cp39-manylinux_2_17_x86_64.manylinux2014_x86_64.whl (15.8 MB)\n",
      "\u001b[2K     \u001b[90m━━━━━━━━━━━━━━━━━━━━━━━━━━━━━━━━━━━━━━━━\u001b[0m \u001b[32m15.8/15.8 MB\u001b[0m \u001b[31m3.7 MB/s\u001b[0m eta \u001b[36m0:00:00\u001b[0m00:01\u001b[0m00:01\u001b[0m\n",
      "\u001b[?25hINFO: This is taking longer than usual. You might need to provide the dependency resolver with stricter constraints to reduce runtime. See https://pip.pypa.io/warnings/backtracking for guidance. If you want to abort this run, press Ctrl + C.\n",
      "  Downloading tensorflow_decision_forests-0.2.4-cp39-cp39-manylinux_2_12_x86_64.manylinux2010_x86_64.whl (13.4 MB)\n",
      "\u001b[2K     \u001b[90m━━━━━━━━━━━━━━━━━━━━━━━━━━━━━━━━━━━━━━━━\u001b[0m \u001b[32m13.4/13.4 MB\u001b[0m \u001b[31m3.7 MB/s\u001b[0m eta \u001b[36m0:00:00\u001b[0m00:01\u001b[0m00:01\u001b[0m\n",
      "\u001b[?25hRequirement already satisfied: wheel in /home/terry/miniconda3/envs/mlp/lib/python3.9/site-packages (from tensorflow_decision_forests) (0.42.0)\n",
      "Requirement already satisfied: wurlitzer in /home/terry/miniconda3/envs/mlp/lib/python3.9/site-packages (from tensorflow_decision_forests) (3.0.2)\n",
      "Requirement already satisfied: attrs in /home/terry/miniconda3/envs/mlp/lib/python3.9/site-packages (from neural-structured-learning>=1.3.1->tflite-model-maker) (22.1.0)\n",
      "Requirement already satisfied: pytz>=2020.1 in /home/terry/miniconda3/envs/mlp/lib/python3.9/site-packages (from pandas>=0.22.0->tf-models-official==2.3.0->tflite-model-maker) (2022.5)\n",
      "Requirement already satisfied: charset-normalizer<3,>=2 in /home/terry/miniconda3/envs/mlp/lib/python3.9/site-packages (from requests>=2.19.0->tensorflow_datasets) (2.1.1)\n",
      "Requirement already satisfied: idna<4,>=2.5 in /home/terry/miniconda3/envs/mlp/lib/python3.9/site-packages (from requests>=2.19.0->tensorflow_datasets) (3.4)\n",
      "Requirement already satisfied: certifi>=2017.4.17 in /home/terry/miniconda3/envs/mlp/lib/python3.9/site-packages (from requests>=2.19.0->tensorflow_datasets) (2022.9.24)\n",
      "Requirement already satisfied: CFFI>=1.0 in /home/terry/miniconda3/envs/mlp/lib/python3.9/site-packages (from sounddevice>=0.4.4->tflite_support) (1.15.1)\n",
      "Requirement already satisfied: google-auth<3,>=1.6.3 in /home/terry/miniconda3/envs/mlp/lib/python3.9/site-packages (from tensorboard<2.9,>=2.8->tensorflow==2.8.4) (2.13.0)\n",
      "Requirement already satisfied: google-auth-oauthlib<0.5,>=0.4.1 in /home/terry/miniconda3/envs/mlp/lib/python3.9/site-packages (from tensorboard<2.9,>=2.8->tensorflow==2.8.4) (0.4.6)\n",
      "Requirement already satisfied: markdown>=2.6.8 in /home/terry/miniconda3/envs/mlp/lib/python3.9/site-packages (from tensorboard<2.9,>=2.8->tensorflow==2.8.4) (3.4.1)\n",
      "Requirement already satisfied: tensorboard-data-server<0.7.0,>=0.6.0 in /home/terry/miniconda3/envs/mlp/lib/python3.9/site-packages (from tensorboard<2.9,>=2.8->tensorflow==2.8.4) (0.6.1)\n",
      "Requirement already satisfied: tensorboard-plugin-wit>=1.6.0 in /home/terry/miniconda3/envs/mlp/lib/python3.9/site-packages (from tensorboard<2.9,>=2.8->tensorflow==2.8.4) (1.8.1)\n",
      "Requirement already satisfied: werkzeug>=0.11.15 in /home/terry/miniconda3/envs/mlp/lib/python3.9/site-packages (from tensorboard<2.9,>=2.8->tensorflow==2.8.4) (2.2.2)\n",
      "Requirement already satisfied: typeguard>=2.7 in /home/terry/miniconda3/envs/mlp/lib/python3.9/site-packages (from tensorflow-addons>=0.11.2->tflite-model-maker) (2.13.3)\n",
      "Requirement already satisfied: dm-tree~=0.1.1 in /home/terry/miniconda3/envs/mlp/lib/python3.9/site-packages (from tensorflow-model-optimization>=0.5->tflite-model-maker) (0.1.7)\n",
      "Requirement already satisfied: importlib_resources in /home/terry/miniconda3/envs/mlp/lib/python3.9/site-packages (from etils[epath]->tensorflow_datasets) (5.10.0)\n",
      "Requirement already satisfied: zipp in /home/terry/miniconda3/envs/mlp/lib/python3.9/site-packages (from etils[epath]->tensorflow_datasets) (3.9.0)\n",
      "Requirement already satisfied: googleapis-common-protos<2,>=1.52.0 in /home/terry/miniconda3/envs/mlp/lib/python3.9/site-packages (from tensorflow-metadata->tensorflow_datasets) (1.56.4)\n",
      "Requirement already satisfied: pycparser in /home/terry/miniconda3/envs/mlp/lib/python3.9/site-packages (from CFFI>=1.0->sounddevice>=0.4.4->tflite_support) (2.21)\n",
      "Requirement already satisfied: httplib2<1dev,>=0.15.0 in /home/terry/miniconda3/envs/mlp/lib/python3.9/site-packages (from google-api-python-client>=1.6.7->tf-models-official==2.3.0->tflite-model-maker) (0.20.4)\n",
      "Requirement already satisfied: google-auth-httplib2>=0.1.0 in /home/terry/miniconda3/envs/mlp/lib/python3.9/site-packages (from google-api-python-client>=1.6.7->tf-models-official==2.3.0->tflite-model-maker) (0.1.0)\n",
      "Requirement already satisfied: google-api-core!=2.0.*,!=2.1.*,!=2.2.*,!=2.3.0,<3.0.0dev,>=1.31.5 in /home/terry/miniconda3/envs/mlp/lib/python3.9/site-packages (from google-api-python-client>=1.6.7->tf-models-official==2.3.0->tflite-model-maker) (2.10.2)\n",
      "Requirement already satisfied: uritemplate<5,>=3.0.1 in /home/terry/miniconda3/envs/mlp/lib/python3.9/site-packages (from google-api-python-client>=1.6.7->tf-models-official==2.3.0->tflite-model-maker) (4.1.1)\n",
      "Requirement already satisfied: cachetools<6.0,>=2.0.0 in /home/terry/miniconda3/envs/mlp/lib/python3.9/site-packages (from google-auth<3,>=1.6.3->tensorboard<2.9,>=2.8->tensorflow==2.8.4) (5.2.0)\n",
      "Requirement already satisfied: pyasn1-modules>=0.2.1 in /home/terry/miniconda3/envs/mlp/lib/python3.9/site-packages (from google-auth<3,>=1.6.3->tensorboard<2.9,>=2.8->tensorflow==2.8.4) (0.2.8)\n",
      "Requirement already satisfied: rsa<5,>=3.1.4 in /home/terry/miniconda3/envs/mlp/lib/python3.9/site-packages (from google-auth<3,>=1.6.3->tensorboard<2.9,>=2.8->tensorflow==2.8.4) (4.9)\n",
      "Requirement already satisfied: requests-oauthlib>=0.7.0 in /home/terry/miniconda3/envs/mlp/lib/python3.9/site-packages (from google-auth-oauthlib<0.5,>=0.4.1->tensorboard<2.9,>=2.8->tensorflow==2.8.4) (1.3.1)\n",
      "Requirement already satisfied: google-cloud-bigquery-storage<3.0.0dev,>=2.0.0 in /home/terry/miniconda3/envs/mlp/lib/python3.9/site-packages (from google-cloud-bigquery>=0.31.0->tf-models-official==2.3.0->tflite-model-maker) (2.16.2)\n",
      "Requirement already satisfied: proto-plus<2.0.0dev,>=1.22.0 in /home/terry/miniconda3/envs/mlp/lib/python3.9/site-packages (from google-cloud-bigquery>=0.31.0->tf-models-official==2.3.0->tflite-model-maker) (1.22.1)\n",
      "Requirement already satisfied: google-cloud-core<3.0.0dev,>=1.4.1 in /home/terry/miniconda3/envs/mlp/lib/python3.9/site-packages (from google-cloud-bigquery>=0.31.0->tf-models-official==2.3.0->tflite-model-maker) (2.3.2)\n",
      "Requirement already satisfied: google-resumable-media<3.0dev,>=0.6.0 in /home/terry/miniconda3/envs/mlp/lib/python3.9/site-packages (from google-cloud-bigquery>=0.31.0->tf-models-official==2.3.0->tflite-model-maker) (2.4.0)\n",
      "Requirement already satisfied: pyarrow<10.0dev,>=3.0.0 in /home/terry/miniconda3/envs/mlp/lib/python3.9/site-packages (from google-cloud-bigquery>=0.31.0->tf-models-official==2.3.0->tflite-model-maker) (9.0.0)\n",
      "Requirement already satisfied: python-slugify in /home/terry/miniconda3/envs/mlp/lib/python3.9/site-packages (from kaggle>=1.3.9->tf-models-official==2.3.0->tflite-model-maker) (6.1.2)\n",
      "Requirement already satisfied: importlib-metadata>=4.4 in /home/terry/miniconda3/envs/mlp/lib/python3.9/site-packages (from markdown>=2.6.8->tensorboard<2.9,>=2.8->tensorflow==2.8.4) (5.0.0)\n",
      "Requirement already satisfied: appdirs>=1.3.0 in /home/terry/miniconda3/envs/mlp/lib/python3.9/site-packages (from pooch>=1.0->librosa==0.8.1->tflite-model-maker) (1.4.4)\n",
      "Requirement already satisfied: threadpoolctl>=2.0.0 in /home/terry/miniconda3/envs/mlp/lib/python3.9/site-packages (from scikit-learn!=0.19.0,>=0.14.0->librosa==0.8.1->tflite-model-maker) (3.1.0)\n",
      "Requirement already satisfied: MarkupSafe>=2.1.1 in /home/terry/miniconda3/envs/mlp/lib/python3.9/site-packages (from werkzeug>=0.11.15->tensorboard<2.9,>=2.8->tensorflow==2.8.4) (2.1.1)\n",
      "Requirement already satisfied: grpcio-status<2.0dev,>=1.33.2 in /home/terry/miniconda3/envs/mlp/lib/python3.9/site-packages (from google-api-core[grpc]!=2.0.*,!=2.1.*,!=2.2.*,!=2.3.0,<3.0.0dev,>=1.31.5->google-cloud-bigquery>=0.31.0->tf-models-official==2.3.0->tflite-model-maker) (1.48.2)\n",
      "Requirement already satisfied: google-crc32c<2.0dev,>=1.0 in /home/terry/miniconda3/envs/mlp/lib/python3.9/site-packages (from google-resumable-media<3.0dev,>=0.6.0->google-cloud-bigquery>=0.31.0->tf-models-official==2.3.0->tflite-model-maker) (1.5.0)\n",
      "Requirement already satisfied: pyasn1<0.5.0,>=0.4.6 in /home/terry/miniconda3/envs/mlp/lib/python3.9/site-packages (from pyasn1-modules>=0.2.1->google-auth<3,>=1.6.3->tensorboard<2.9,>=2.8->tensorflow==2.8.4) (0.4.8)\n",
      "Requirement already satisfied: oauthlib>=3.0.0 in /home/terry/miniconda3/envs/mlp/lib/python3.9/site-packages (from requests-oauthlib>=0.7.0->google-auth-oauthlib<0.5,>=0.4.1->tensorboard<2.9,>=2.8->tensorflow==2.8.4) (3.2.2)\n",
      "Requirement already satisfied: text-unidecode>=1.3 in /home/terry/miniconda3/envs/mlp/lib/python3.9/site-packages (from python-slugify->kaggle>=1.3.9->tf-models-official==2.3.0->tflite-model-maker) (1.3)\n",
      "Downloading flatbuffers-23.5.26-py2.py3-none-any.whl (26 kB)\n",
      "\u001b[33mWARNING: Ignoring invalid distribution -ensorboard (/home/terry/miniconda3/envs/mlp/lib/python3.9/site-packages)\u001b[0m\u001b[33m\n",
      "\u001b[0m\u001b[33mWARNING: Ignoring invalid distribution -ensorflow (/home/terry/miniconda3/envs/mlp/lib/python3.9/site-packages)\u001b[0m\u001b[33m\n",
      "\u001b[0mInstalling collected packages: flatbuffers, tensorflowjs, tensorflow_decision_forests\n",
      "  Attempting uninstall: flatbuffers\n",
      "    Found existing installation: flatbuffers 1.12\n",
      "    Uninstalling flatbuffers-1.12:\n",
      "      Successfully uninstalled flatbuffers-1.12\n",
      "  Attempting uninstall: tensorflowjs\n",
      "    Found existing installation: tensorflowjs 2.8.3\n",
      "    Uninstalling tensorflowjs-2.8.3:\n",
      "      Successfully uninstalled tensorflowjs-2.8.3\n",
      "  Attempting uninstall: tensorflow_decision_forests\n",
      "    Found existing installation: tensorflow-decision-forests 1.0.1\n",
      "    Uninstalling tensorflow-decision-forests-1.0.1:\n",
      "      Successfully uninstalled tensorflow-decision-forests-1.0.1\n",
      "Successfully installed flatbuffers-23.5.26 tensorflow_decision_forests-0.2.4 tensorflowjs-2.8.4\n",
      "Note: you may need to restart the kernel to use updated packages.\n"
     ]
    }
   ],
   "source": [
    "%pip install tensorflow==2.8.4 tensorflow_datasets tflite-model-maker jax jaxlib opencv-python pillow matplotlib  tflite_support lxml scipy etils tensorflowjs==2.8.4 tensorflow_decision_forests tensorflow_hub scann==1.2.6"
   ]
  },
  {
   "cell_type": "code",
   "execution_count": 1,
   "id": "2b2925fb",
   "metadata": {},
   "outputs": [],
   "source": [
    "import os\n",
    "\n",
    "import numpy as np\n",
    "\n",
    "import tensorflow as tf\n",
    "assert tf.__version__.startswith('2')\n",
    "\n",
    "from tflite_model_maker import model_spec\n",
    "from tflite_model_maker import image_classifier\n",
    "from tflite_model_maker.config import ExportFormat\n",
    "from tflite_model_maker.config import QuantizationConfig\n",
    "from tflite_model_maker.image_classifier import DataLoader\n",
    "\n",
    "import matplotlib.pyplot as plt\n",
    "\n",
    "epoch=90\n",
    "#spec = model_spec.get('efficientnet_lite4')\n",
    "spec = image_classifier.ModelSpec(\n",
    "uri='https://tfhub.dev/google/imagenet/efficientnet_v2_imagenet1k_b3/feature_vector/2'\n",
    ")\n",
    "spec.input_image_shape=[300, 300]\n",
    "bsize=20\n"
   ]
  },
  {
   "cell_type": "code",
   "execution_count": 2,
   "id": "3574beac",
   "metadata": {},
   "outputs": [
    {
     "data": {
      "text/plain": [
       "[PhysicalDevice(name='/physical_device:GPU:0', device_type='GPU')]"
      ]
     },
     "execution_count": 2,
     "metadata": {},
     "output_type": "execute_result"
    }
   ],
   "source": [
    "tf.config.list_physical_devices('GPU')\n"
   ]
  },
  {
   "cell_type": "code",
   "execution_count": 2,
   "id": "3a729062",
   "metadata": {},
   "outputs": [
    {
     "name": "stdout",
     "output_type": "stream",
     "text": [
      "INFO:tensorflow:Load image with size: 9753, num_label: 75, labels: BTS RM, BTS 뷔, BTS 슈가, BTS 정국, BTS 제이홉, BTS 지민, BTS 진, EXO 디오, NCT 마크, NCT 재현, WINNER 강승윤, WINNER 송민호, WINNER 이승훈, 더보이즈 뉴, 더보이즈 상연, 더보이즈 선우, 더보이즈 에릭, 더보이즈 영훈, 더보이즈 제이콥, 더보이즈 주연, 더보이즈 주학년, 더보이즈 케빈, 더보이즈 큐, 더보이즈 현재, 라이즈 성찬, 라이즈 소희, 라이즈 쇼타로, 라이즈 승한, 라이즈 앤톤, 라이즈 원빈, 라이즈 은석, 몬스타엑스 기현, 몬스타엑스 민혁, 몬스타엑스 셔누, 몬스타엑스 아이엠, 몬스타엑스 주헌, 몬스타엑스 형원, 블락비 박경, 블락비 지코, 블락비 피오, 비스트 양요섭, 비스트 용준형, 비스트 윤두준, 비투비 이창섭, 샤이니 온유, 샤이니 키, 샤이니 태민, 세븐틴 민규, 세븐틴 에스쿱스, 세븐틴 원우, 세븐틴 준, 세븐틴 호시, 슈퍼주니어 신동, 스트레이키즈 리노, 스트레이키즈 방찬, 스트레이키즈 승민, 스트레이키즈 창빈, 스트레이키즈 필릭스, 스트레이키즈 한, 스트레이키즈 현진, 아스트로 MJ, 아스트로 라키, 아스트로 문빈, 아스트로 윤산하, 아스트로 진진, 아스트로 차은우, 워너원 강다니엘, 워너원 옹성우, 워너원 황민현, 인피니트 엘, 제국의아이들 김동준, 제국의아이들 임시완, 제국의아이들 황광희, 투모로우바이투게더 수빈, 투모로우바이투게더 연준.\n"
     ]
    },
    {
     "name": "stderr",
     "output_type": "stream",
     "text": [
      "INFO:tensorflow:Load image with size: 9753, num_label: 75, labels: BTS RM, BTS 뷔, BTS 슈가, BTS 정국, BTS 제이홉, BTS 지민, BTS 진, EXO 디오, NCT 마크, NCT 재현, WINNER 강승윤, WINNER 송민호, WINNER 이승훈, 더보이즈 뉴, 더보이즈 상연, 더보이즈 선우, 더보이즈 에릭, 더보이즈 영훈, 더보이즈 제이콥, 더보이즈 주연, 더보이즈 주학년, 더보이즈 케빈, 더보이즈 큐, 더보이즈 현재, 라이즈 성찬, 라이즈 소희, 라이즈 쇼타로, 라이즈 승한, 라이즈 앤톤, 라이즈 원빈, 라이즈 은석, 몬스타엑스 기현, 몬스타엑스 민혁, 몬스타엑스 셔누, 몬스타엑스 아이엠, 몬스타엑스 주헌, 몬스타엑스 형원, 블락비 박경, 블락비 지코, 블락비 피오, 비스트 양요섭, 비스트 용준형, 비스트 윤두준, 비투비 이창섭, 샤이니 온유, 샤이니 키, 샤이니 태민, 세븐틴 민규, 세븐틴 에스쿱스, 세븐틴 원우, 세븐틴 준, 세븐틴 호시, 슈퍼주니어 신동, 스트레이키즈 리노, 스트레이키즈 방찬, 스트레이키즈 승민, 스트레이키즈 창빈, 스트레이키즈 필릭스, 스트레이키즈 한, 스트레이키즈 현진, 아스트로 MJ, 아스트로 라키, 아스트로 문빈, 아스트로 윤산하, 아스트로 진진, 아스트로 차은우, 워너원 강다니엘, 워너원 옹성우, 워너원 황민현, 인피니트 엘, 제국의아이들 김동준, 제국의아이들 임시완, 제국의아이들 황광희, 투모로우바이투게더 수빈, 투모로우바이투게더 연준.\n"
     ]
    }
   ],
   "source": [
    "image_path = '/home/terry/code/celebme/celebme_model_202401/faces/men/'\n",
    "data = DataLoader.from_folder(image_path)\n",
    "train_data, test_data = data.split(0.9)"
   ]
  },
  {
   "cell_type": "code",
   "execution_count": 3,
   "id": "18180314",
   "metadata": {},
   "outputs": [
    {
     "name": "stdout",
     "output_type": "stream",
     "text": [
      "INFO:tensorflow:Retraining the models...\n"
     ]
    },
    {
     "name": "stderr",
     "output_type": "stream",
     "text": [
      "INFO:tensorflow:Retraining the models...\n"
     ]
    },
    {
     "name": "stdout",
     "output_type": "stream",
     "text": [
      "Model: \"sequential\"\n",
      "_________________________________________________________________\n",
      " Layer (type)                Output Shape              Param #   \n",
      "=================================================================\n",
      " hub_keras_layer_v1v2 (HubKe  (None, 1536)             12930622  \n",
      " rasLayerV1V2)                                                   \n",
      "                                                                 \n",
      " dropout (Dropout)           (None, 1536)              0         \n",
      "                                                                 \n",
      " dense (Dense)               (None, 75)                115275    \n",
      "                                                                 \n",
      "=================================================================\n",
      "Total params: 13,045,897\n",
      "Trainable params: 115,275\n",
      "Non-trainable params: 12,930,622\n",
      "_________________________________________________________________\n",
      "None\n",
      "Epoch 1/90\n",
      "438/438 [==============================] - 230s 385ms/step - loss: 4.1897 - accuracy: 0.0572 - val_loss: 3.9909 - val_accuracy: 0.1137\n",
      "Epoch 2/90\n",
      "438/438 [==============================] - 160s 364ms/step - loss: 3.8672 - accuracy: 0.1386 - val_loss: 3.8235 - val_accuracy: 0.1486\n",
      "Epoch 3/90\n",
      "438/438 [==============================] - 159s 361ms/step - loss: 3.6772 - accuracy: 0.1864 - val_loss: 3.7180 - val_accuracy: 0.1619\n",
      "Epoch 4/90\n",
      "438/438 [==============================] - 162s 368ms/step - loss: 3.5465 - accuracy: 0.2161 - val_loss: 3.6460 - val_accuracy: 0.1834\n",
      "Epoch 5/90\n",
      "438/438 [==============================] - 161s 368ms/step - loss: 3.4488 - accuracy: 0.2460 - val_loss: 3.5894 - val_accuracy: 0.2049\n",
      "Epoch 6/90\n",
      "438/438 [==============================] - 161s 366ms/step - loss: 3.3646 - accuracy: 0.2705 - val_loss: 3.5427 - val_accuracy: 0.2264\n",
      "Epoch 7/90\n",
      "438/438 [==============================] - 158s 360ms/step - loss: 3.2888 - accuracy: 0.2890 - val_loss: 3.5072 - val_accuracy: 0.2326\n",
      "Epoch 8/90\n",
      "438/438 [==============================] - 158s 361ms/step - loss: 3.2261 - accuracy: 0.3067 - val_loss: 3.4746 - val_accuracy: 0.2408\n",
      "Epoch 9/90\n",
      "438/438 [==============================] - ETA: 0s - loss: 3.1756 - accuracy: 0.3242"
     ]
    },
    {
     "ename": "KeyboardInterrupt",
     "evalue": "",
     "output_type": "error",
     "traceback": [
      "\u001b[0;31m---------------------------------------------------------------------------\u001b[0m",
      "\u001b[0;31mKeyboardInterrupt\u001b[0m                         Traceback (most recent call last)",
      "\u001b[1;32m/home/terry/code/celebme/celebme_model_202401/Train interactive.ipynb 셀 7\u001b[0m in \u001b[0;36m2\n\u001b[1;32m      <a href='vscode-notebook-cell://ssh-remote%2Btkorg.duckdns.org/home/terry/code/celebme/celebme_model_202401/Train%20interactive.ipynb#W6sdnNjb2RlLXJlbW90ZQ%3D%3D?line=0'>1</a>\u001b[0m \u001b[39m# model = image_classifier.create(train_data, epochs=5)\u001b[39;00m\n\u001b[0;32m----> <a href='vscode-notebook-cell://ssh-remote%2Btkorg.duckdns.org/home/terry/code/celebme/celebme_model_202401/Train%20interactive.ipynb#W6sdnNjb2RlLXJlbW90ZQ%3D%3D?line=1'>2</a>\u001b[0m model \u001b[39m=\u001b[39m image_classifier\u001b[39m.\u001b[39;49mcreate(train_data, epochs\u001b[39m=\u001b[39;49mepoch, model_spec\u001b[39m=\u001b[39;49mspec, train_whole_model\u001b[39m=\u001b[39;49m\u001b[39mFalse\u001b[39;49;00m, validation_data\u001b[39m=\u001b[39;49mtest_data, batch_size\u001b[39m=\u001b[39;49mbsize)\n\u001b[1;32m      <a href='vscode-notebook-cell://ssh-remote%2Btkorg.duckdns.org/home/terry/code/celebme/celebme_model_202401/Train%20interactive.ipynb#W6sdnNjb2RlLXJlbW90ZQ%3D%3D?line=4'>5</a>\u001b[0m \u001b[39mprint\u001b[39m(\u001b[39m\"\u001b[39m\u001b[39mexporting saved_model..\u001b[39m\u001b[39m\"\u001b[39m)\n\u001b[1;32m      <a href='vscode-notebook-cell://ssh-remote%2Btkorg.duckdns.org/home/terry/code/celebme/celebme_model_202401/Train%20interactive.ipynb#W6sdnNjb2RlLXJlbW90ZQ%3D%3D?line=5'>6</a>\u001b[0m model\u001b[39m.\u001b[39mexport(export_dir\u001b[39m=\u001b[39mimage_path \u001b[39m+\u001b[39m \u001b[39m'\u001b[39m\u001b[39mmodel_saved_model\u001b[39m\u001b[39m'\u001b[39m, export_format\u001b[39m=\u001b[39mExportFormat\u001b[39m.\u001b[39mSAVED_MODEL)\n",
      "File \u001b[0;32m~/miniconda3/envs/mlp/lib/python3.9/site-packages/tensorflow_examples/lite/model_maker/core/task/image_classifier.py:339\u001b[0m, in \u001b[0;36mImageClassifier.create\u001b[0;34m(cls, train_data, model_spec, validation_data, batch_size, epochs, steps_per_epoch, train_whole_model, dropout_rate, learning_rate, momentum, shuffle, use_augmentation, use_hub_library, warmup_steps, model_dir, do_train)\u001b[0m\n\u001b[1;32m    337\u001b[0m \u001b[39mif\u001b[39;00m do_train:\n\u001b[1;32m    338\u001b[0m   tf\u001b[39m.\u001b[39mcompat\u001b[39m.\u001b[39mv1\u001b[39m.\u001b[39mlogging\u001b[39m.\u001b[39minfo(\u001b[39m'\u001b[39m\u001b[39mRetraining the models...\u001b[39m\u001b[39m'\u001b[39m)\n\u001b[0;32m--> 339\u001b[0m   image_classifier\u001b[39m.\u001b[39;49mtrain(train_data, validation_data, steps_per_epoch)\n\u001b[1;32m    340\u001b[0m \u001b[39melse\u001b[39;00m:\n\u001b[1;32m    341\u001b[0m   \u001b[39m# Used in evaluation.\u001b[39;00m\n\u001b[1;32m    342\u001b[0m   image_classifier\u001b[39m.\u001b[39mcreate_model(with_loss_and_metrics\u001b[39m=\u001b[39m\u001b[39mTrue\u001b[39;00m)\n",
      "File \u001b[0;32m~/miniconda3/envs/mlp/lib/python3.9/site-packages/tensorflow_examples/lite/model_maker/core/task/image_classifier.py:191\u001b[0m, in \u001b[0;36mImageClassifier.train\u001b[0;34m(self, train_data, validation_data, hparams, steps_per_epoch)\u001b[0m\n\u001b[1;32m    188\u001b[0m \u001b[39melse\u001b[39;00m:\n\u001b[1;32m    189\u001b[0m   train_model \u001b[39m=\u001b[39m train_image_classifier_lib\u001b[39m.\u001b[39mhub_train_model\n\u001b[0;32m--> 191\u001b[0m \u001b[39mself\u001b[39m\u001b[39m.\u001b[39mhistory \u001b[39m=\u001b[39m train_model(\n\u001b[1;32m    192\u001b[0m     model\u001b[39m=\u001b[39;49m\u001b[39mself\u001b[39;49m\u001b[39m.\u001b[39;49mmodel,\n\u001b[1;32m    193\u001b[0m     hparams\u001b[39m=\u001b[39;49mhparams,\n\u001b[1;32m    194\u001b[0m     train_ds\u001b[39m=\u001b[39;49mtrain_ds,\n\u001b[1;32m    195\u001b[0m     validation_ds\u001b[39m=\u001b[39;49mvalidation_ds,\n\u001b[1;32m    196\u001b[0m     steps_per_epoch\u001b[39m=\u001b[39;49msteps_per_epoch)\n",
      "File \u001b[0;32m~/miniconda3/envs/mlp/lib/python3.9/site-packages/tensorflow_examples/lite/model_maker/core/task/train_image_classifier_lib.py:140\u001b[0m, in \u001b[0;36mhub_train_model\u001b[0;34m(model, hparams, train_ds, validation_ds, steps_per_epoch)\u001b[0m\n\u001b[1;32m    132\u001b[0m loss \u001b[39m=\u001b[39m tf\u001b[39m.\u001b[39mkeras\u001b[39m.\u001b[39mlosses\u001b[39m.\u001b[39mCategoricalCrossentropy(\n\u001b[1;32m    133\u001b[0m     label_smoothing\u001b[39m=\u001b[39mhparams\u001b[39m.\u001b[39mlabel_smoothing)\n\u001b[1;32m    134\u001b[0m model\u001b[39m.\u001b[39mcompile(\n\u001b[1;32m    135\u001b[0m     optimizer\u001b[39m=\u001b[39mtf\u001b[39m.\u001b[39mkeras\u001b[39m.\u001b[39moptimizers\u001b[39m.\u001b[39mSGD(\n\u001b[1;32m    136\u001b[0m         learning_rate\u001b[39m=\u001b[39mhparams\u001b[39m.\u001b[39mlearning_rate, momentum\u001b[39m=\u001b[39mhparams\u001b[39m.\u001b[39mmomentum),\n\u001b[1;32m    137\u001b[0m     loss\u001b[39m=\u001b[39mloss,\n\u001b[1;32m    138\u001b[0m     metrics\u001b[39m=\u001b[39m[\u001b[39m\"\u001b[39m\u001b[39maccuracy\u001b[39m\u001b[39m\"\u001b[39m])\n\u001b[0;32m--> 140\u001b[0m \u001b[39mreturn\u001b[39;00m model\u001b[39m.\u001b[39;49mfit(\n\u001b[1;32m    141\u001b[0m     train_ds,\n\u001b[1;32m    142\u001b[0m     epochs\u001b[39m=\u001b[39;49mhparams\u001b[39m.\u001b[39;49mtrain_epochs,\n\u001b[1;32m    143\u001b[0m     steps_per_epoch\u001b[39m=\u001b[39;49msteps_per_epoch,\n\u001b[1;32m    144\u001b[0m     validation_data\u001b[39m=\u001b[39;49mvalidation_ds)\n",
      "File \u001b[0;32m~/miniconda3/envs/mlp/lib/python3.9/site-packages/keras/utils/traceback_utils.py:64\u001b[0m, in \u001b[0;36mfilter_traceback.<locals>.error_handler\u001b[0;34m(*args, **kwargs)\u001b[0m\n\u001b[1;32m     62\u001b[0m filtered_tb \u001b[39m=\u001b[39m \u001b[39mNone\u001b[39;00m\n\u001b[1;32m     63\u001b[0m \u001b[39mtry\u001b[39;00m:\n\u001b[0;32m---> 64\u001b[0m   \u001b[39mreturn\u001b[39;00m fn(\u001b[39m*\u001b[39;49margs, \u001b[39m*\u001b[39;49m\u001b[39m*\u001b[39;49mkwargs)\n\u001b[1;32m     65\u001b[0m \u001b[39mexcept\u001b[39;00m \u001b[39mException\u001b[39;00m \u001b[39mas\u001b[39;00m e:  \u001b[39m# pylint: disable=broad-except\u001b[39;00m\n\u001b[1;32m     66\u001b[0m   filtered_tb \u001b[39m=\u001b[39m _process_traceback_frames(e\u001b[39m.\u001b[39m__traceback__)\n",
      "File \u001b[0;32m~/miniconda3/envs/mlp/lib/python3.9/site-packages/keras/engine/training.py:1420\u001b[0m, in \u001b[0;36mModel.fit\u001b[0;34m(self, x, y, batch_size, epochs, verbose, callbacks, validation_split, validation_data, shuffle, class_weight, sample_weight, initial_epoch, steps_per_epoch, validation_steps, validation_batch_size, validation_freq, max_queue_size, workers, use_multiprocessing)\u001b[0m\n\u001b[1;32m   1406\u001b[0m \u001b[39mif\u001b[39;00m \u001b[39mgetattr\u001b[39m(\u001b[39mself\u001b[39m, \u001b[39m'\u001b[39m\u001b[39m_eval_data_handler\u001b[39m\u001b[39m'\u001b[39m, \u001b[39mNone\u001b[39;00m) \u001b[39mis\u001b[39;00m \u001b[39mNone\u001b[39;00m:\n\u001b[1;32m   1407\u001b[0m   \u001b[39mself\u001b[39m\u001b[39m.\u001b[39m_eval_data_handler \u001b[39m=\u001b[39m data_adapter\u001b[39m.\u001b[39mget_data_handler(\n\u001b[1;32m   1408\u001b[0m       x\u001b[39m=\u001b[39mval_x,\n\u001b[1;32m   1409\u001b[0m       y\u001b[39m=\u001b[39mval_y,\n\u001b[0;32m   (...)\u001b[0m\n\u001b[1;32m   1418\u001b[0m       model\u001b[39m=\u001b[39m\u001b[39mself\u001b[39m,\n\u001b[1;32m   1419\u001b[0m       steps_per_execution\u001b[39m=\u001b[39m\u001b[39mself\u001b[39m\u001b[39m.\u001b[39m_steps_per_execution)\n\u001b[0;32m-> 1420\u001b[0m val_logs \u001b[39m=\u001b[39m \u001b[39mself\u001b[39;49m\u001b[39m.\u001b[39;49mevaluate(\n\u001b[1;32m   1421\u001b[0m     x\u001b[39m=\u001b[39;49mval_x,\n\u001b[1;32m   1422\u001b[0m     y\u001b[39m=\u001b[39;49mval_y,\n\u001b[1;32m   1423\u001b[0m     sample_weight\u001b[39m=\u001b[39;49mval_sample_weight,\n\u001b[1;32m   1424\u001b[0m     batch_size\u001b[39m=\u001b[39;49mvalidation_batch_size \u001b[39mor\u001b[39;49;00m batch_size,\n\u001b[1;32m   1425\u001b[0m     steps\u001b[39m=\u001b[39;49mvalidation_steps,\n\u001b[1;32m   1426\u001b[0m     callbacks\u001b[39m=\u001b[39;49mcallbacks,\n\u001b[1;32m   1427\u001b[0m     max_queue_size\u001b[39m=\u001b[39;49mmax_queue_size,\n\u001b[1;32m   1428\u001b[0m     workers\u001b[39m=\u001b[39;49mworkers,\n\u001b[1;32m   1429\u001b[0m     use_multiprocessing\u001b[39m=\u001b[39;49muse_multiprocessing,\n\u001b[1;32m   1430\u001b[0m     return_dict\u001b[39m=\u001b[39;49m\u001b[39mTrue\u001b[39;49;00m,\n\u001b[1;32m   1431\u001b[0m     _use_cached_eval_dataset\u001b[39m=\u001b[39;49m\u001b[39mTrue\u001b[39;49;00m)\n\u001b[1;32m   1432\u001b[0m val_logs \u001b[39m=\u001b[39m {\u001b[39m'\u001b[39m\u001b[39mval_\u001b[39m\u001b[39m'\u001b[39m \u001b[39m+\u001b[39m name: val \u001b[39mfor\u001b[39;00m name, val \u001b[39min\u001b[39;00m val_logs\u001b[39m.\u001b[39mitems()}\n\u001b[1;32m   1433\u001b[0m epoch_logs\u001b[39m.\u001b[39mupdate(val_logs)\n",
      "File \u001b[0;32m~/miniconda3/envs/mlp/lib/python3.9/site-packages/keras/utils/traceback_utils.py:64\u001b[0m, in \u001b[0;36mfilter_traceback.<locals>.error_handler\u001b[0;34m(*args, **kwargs)\u001b[0m\n\u001b[1;32m     62\u001b[0m filtered_tb \u001b[39m=\u001b[39m \u001b[39mNone\u001b[39;00m\n\u001b[1;32m     63\u001b[0m \u001b[39mtry\u001b[39;00m:\n\u001b[0;32m---> 64\u001b[0m   \u001b[39mreturn\u001b[39;00m fn(\u001b[39m*\u001b[39;49margs, \u001b[39m*\u001b[39;49m\u001b[39m*\u001b[39;49mkwargs)\n\u001b[1;32m     65\u001b[0m \u001b[39mexcept\u001b[39;00m \u001b[39mException\u001b[39;00m \u001b[39mas\u001b[39;00m e:  \u001b[39m# pylint: disable=broad-except\u001b[39;00m\n\u001b[1;32m     66\u001b[0m   filtered_tb \u001b[39m=\u001b[39m _process_traceback_frames(e\u001b[39m.\u001b[39m__traceback__)\n",
      "File \u001b[0;32m~/miniconda3/envs/mlp/lib/python3.9/site-packages/keras/engine/training.py:1716\u001b[0m, in \u001b[0;36mModel.evaluate\u001b[0;34m(self, x, y, batch_size, verbose, sample_weight, steps, callbacks, max_queue_size, workers, use_multiprocessing, return_dict, **kwargs)\u001b[0m\n\u001b[1;32m   1714\u001b[0m \u001b[39mwith\u001b[39;00m tf\u001b[39m.\u001b[39mprofiler\u001b[39m.\u001b[39mexperimental\u001b[39m.\u001b[39mTrace(\u001b[39m'\u001b[39m\u001b[39mtest\u001b[39m\u001b[39m'\u001b[39m, step_num\u001b[39m=\u001b[39mstep, _r\u001b[39m=\u001b[39m\u001b[39m1\u001b[39m):\n\u001b[1;32m   1715\u001b[0m   callbacks\u001b[39m.\u001b[39mon_test_batch_begin(step)\n\u001b[0;32m-> 1716\u001b[0m   tmp_logs \u001b[39m=\u001b[39m \u001b[39mself\u001b[39;49m\u001b[39m.\u001b[39;49mtest_function(iterator)\n\u001b[1;32m   1717\u001b[0m   \u001b[39mif\u001b[39;00m data_handler\u001b[39m.\u001b[39mshould_sync:\n\u001b[1;32m   1718\u001b[0m     context\u001b[39m.\u001b[39masync_wait()\n",
      "File \u001b[0;32m~/miniconda3/envs/mlp/lib/python3.9/site-packages/tensorflow/python/util/traceback_utils.py:150\u001b[0m, in \u001b[0;36mfilter_traceback.<locals>.error_handler\u001b[0;34m(*args, **kwargs)\u001b[0m\n\u001b[1;32m    148\u001b[0m filtered_tb \u001b[39m=\u001b[39m \u001b[39mNone\u001b[39;00m\n\u001b[1;32m    149\u001b[0m \u001b[39mtry\u001b[39;00m:\n\u001b[0;32m--> 150\u001b[0m   \u001b[39mreturn\u001b[39;00m fn(\u001b[39m*\u001b[39;49margs, \u001b[39m*\u001b[39;49m\u001b[39m*\u001b[39;49mkwargs)\n\u001b[1;32m    151\u001b[0m \u001b[39mexcept\u001b[39;00m \u001b[39mException\u001b[39;00m \u001b[39mas\u001b[39;00m e:\n\u001b[1;32m    152\u001b[0m   filtered_tb \u001b[39m=\u001b[39m _process_traceback_frames(e\u001b[39m.\u001b[39m__traceback__)\n",
      "File \u001b[0;32m~/miniconda3/envs/mlp/lib/python3.9/site-packages/tensorflow/python/eager/def_function.py:915\u001b[0m, in \u001b[0;36mFunction.__call__\u001b[0;34m(self, *args, **kwds)\u001b[0m\n\u001b[1;32m    912\u001b[0m compiler \u001b[39m=\u001b[39m \u001b[39m\"\u001b[39m\u001b[39mxla\u001b[39m\u001b[39m\"\u001b[39m \u001b[39mif\u001b[39;00m \u001b[39mself\u001b[39m\u001b[39m.\u001b[39m_jit_compile \u001b[39melse\u001b[39;00m \u001b[39m\"\u001b[39m\u001b[39mnonXla\u001b[39m\u001b[39m\"\u001b[39m\n\u001b[1;32m    914\u001b[0m \u001b[39mwith\u001b[39;00m OptionalXlaContext(\u001b[39mself\u001b[39m\u001b[39m.\u001b[39m_jit_compile):\n\u001b[0;32m--> 915\u001b[0m   result \u001b[39m=\u001b[39m \u001b[39mself\u001b[39;49m\u001b[39m.\u001b[39;49m_call(\u001b[39m*\u001b[39;49margs, \u001b[39m*\u001b[39;49m\u001b[39m*\u001b[39;49mkwds)\n\u001b[1;32m    917\u001b[0m new_tracing_count \u001b[39m=\u001b[39m \u001b[39mself\u001b[39m\u001b[39m.\u001b[39mexperimental_get_tracing_count()\n\u001b[1;32m    918\u001b[0m without_tracing \u001b[39m=\u001b[39m (tracing_count \u001b[39m==\u001b[39m new_tracing_count)\n",
      "File \u001b[0;32m~/miniconda3/envs/mlp/lib/python3.9/site-packages/tensorflow/python/eager/def_function.py:954\u001b[0m, in \u001b[0;36mFunction._call\u001b[0;34m(self, *args, **kwds)\u001b[0m\n\u001b[1;32m    951\u001b[0m \u001b[39mself\u001b[39m\u001b[39m.\u001b[39m_lock\u001b[39m.\u001b[39mrelease()\n\u001b[1;32m    952\u001b[0m \u001b[39m# In this case we have not created variables on the first call. So we can\u001b[39;00m\n\u001b[1;32m    953\u001b[0m \u001b[39m# run the first trace but we should fail if variables are created.\u001b[39;00m\n\u001b[0;32m--> 954\u001b[0m results \u001b[39m=\u001b[39m \u001b[39mself\u001b[39;49m\u001b[39m.\u001b[39;49m_stateful_fn(\u001b[39m*\u001b[39;49margs, \u001b[39m*\u001b[39;49m\u001b[39m*\u001b[39;49mkwds)\n\u001b[1;32m    955\u001b[0m \u001b[39mif\u001b[39;00m \u001b[39mself\u001b[39m\u001b[39m.\u001b[39m_created_variables \u001b[39mand\u001b[39;00m \u001b[39mnot\u001b[39;00m ALLOW_DYNAMIC_VARIABLE_CREATION:\n\u001b[1;32m    956\u001b[0m   \u001b[39mraise\u001b[39;00m \u001b[39mValueError\u001b[39;00m(\u001b[39m\"\u001b[39m\u001b[39mCreating variables on a non-first call to a function\u001b[39m\u001b[39m\"\u001b[39m\n\u001b[1;32m    957\u001b[0m                    \u001b[39m\"\u001b[39m\u001b[39m decorated with tf.function.\u001b[39m\u001b[39m\"\u001b[39m)\n",
      "File \u001b[0;32m~/miniconda3/envs/mlp/lib/python3.9/site-packages/tensorflow/python/eager/function.py:2956\u001b[0m, in \u001b[0;36mFunction.__call__\u001b[0;34m(self, *args, **kwargs)\u001b[0m\n\u001b[1;32m   2953\u001b[0m \u001b[39mwith\u001b[39;00m \u001b[39mself\u001b[39m\u001b[39m.\u001b[39m_lock:\n\u001b[1;32m   2954\u001b[0m   (graph_function,\n\u001b[1;32m   2955\u001b[0m    filtered_flat_args) \u001b[39m=\u001b[39m \u001b[39mself\u001b[39m\u001b[39m.\u001b[39m_maybe_define_function(args, kwargs)\n\u001b[0;32m-> 2956\u001b[0m \u001b[39mreturn\u001b[39;00m graph_function\u001b[39m.\u001b[39;49m_call_flat(\n\u001b[1;32m   2957\u001b[0m     filtered_flat_args, captured_inputs\u001b[39m=\u001b[39;49mgraph_function\u001b[39m.\u001b[39;49mcaptured_inputs)\n",
      "File \u001b[0;32m~/miniconda3/envs/mlp/lib/python3.9/site-packages/tensorflow/python/eager/function.py:1853\u001b[0m, in \u001b[0;36mConcreteFunction._call_flat\u001b[0;34m(self, args, captured_inputs, cancellation_manager)\u001b[0m\n\u001b[1;32m   1849\u001b[0m possible_gradient_type \u001b[39m=\u001b[39m gradients_util\u001b[39m.\u001b[39mPossibleTapeGradientTypes(args)\n\u001b[1;32m   1850\u001b[0m \u001b[39mif\u001b[39;00m (possible_gradient_type \u001b[39m==\u001b[39m gradients_util\u001b[39m.\u001b[39mPOSSIBLE_GRADIENT_TYPES_NONE\n\u001b[1;32m   1851\u001b[0m     \u001b[39mand\u001b[39;00m executing_eagerly):\n\u001b[1;32m   1852\u001b[0m   \u001b[39m# No tape is watching; skip to running the function.\u001b[39;00m\n\u001b[0;32m-> 1853\u001b[0m   \u001b[39mreturn\u001b[39;00m \u001b[39mself\u001b[39m\u001b[39m.\u001b[39m_build_call_outputs(\u001b[39mself\u001b[39;49m\u001b[39m.\u001b[39;49m_inference_function\u001b[39m.\u001b[39;49mcall(\n\u001b[1;32m   1854\u001b[0m       ctx, args, cancellation_manager\u001b[39m=\u001b[39;49mcancellation_manager))\n\u001b[1;32m   1855\u001b[0m forward_backward \u001b[39m=\u001b[39m \u001b[39mself\u001b[39m\u001b[39m.\u001b[39m_select_forward_and_backward_functions(\n\u001b[1;32m   1856\u001b[0m     args,\n\u001b[1;32m   1857\u001b[0m     possible_gradient_type,\n\u001b[1;32m   1858\u001b[0m     executing_eagerly)\n\u001b[1;32m   1859\u001b[0m forward_function, args_with_tangents \u001b[39m=\u001b[39m forward_backward\u001b[39m.\u001b[39mforward()\n",
      "File \u001b[0;32m~/miniconda3/envs/mlp/lib/python3.9/site-packages/tensorflow/python/eager/function.py:499\u001b[0m, in \u001b[0;36m_EagerDefinedFunction.call\u001b[0;34m(self, ctx, args, cancellation_manager)\u001b[0m\n\u001b[1;32m    497\u001b[0m \u001b[39mwith\u001b[39;00m _InterpolateFunctionError(\u001b[39mself\u001b[39m):\n\u001b[1;32m    498\u001b[0m   \u001b[39mif\u001b[39;00m cancellation_manager \u001b[39mis\u001b[39;00m \u001b[39mNone\u001b[39;00m:\n\u001b[0;32m--> 499\u001b[0m     outputs \u001b[39m=\u001b[39m execute\u001b[39m.\u001b[39;49mexecute(\n\u001b[1;32m    500\u001b[0m         \u001b[39mstr\u001b[39;49m(\u001b[39mself\u001b[39;49m\u001b[39m.\u001b[39;49msignature\u001b[39m.\u001b[39;49mname),\n\u001b[1;32m    501\u001b[0m         num_outputs\u001b[39m=\u001b[39;49m\u001b[39mself\u001b[39;49m\u001b[39m.\u001b[39;49m_num_outputs,\n\u001b[1;32m    502\u001b[0m         inputs\u001b[39m=\u001b[39;49margs,\n\u001b[1;32m    503\u001b[0m         attrs\u001b[39m=\u001b[39;49mattrs,\n\u001b[1;32m    504\u001b[0m         ctx\u001b[39m=\u001b[39;49mctx)\n\u001b[1;32m    505\u001b[0m   \u001b[39melse\u001b[39;00m:\n\u001b[1;32m    506\u001b[0m     outputs \u001b[39m=\u001b[39m execute\u001b[39m.\u001b[39mexecute_with_cancellation(\n\u001b[1;32m    507\u001b[0m         \u001b[39mstr\u001b[39m(\u001b[39mself\u001b[39m\u001b[39m.\u001b[39msignature\u001b[39m.\u001b[39mname),\n\u001b[1;32m    508\u001b[0m         num_outputs\u001b[39m=\u001b[39m\u001b[39mself\u001b[39m\u001b[39m.\u001b[39m_num_outputs,\n\u001b[0;32m   (...)\u001b[0m\n\u001b[1;32m    511\u001b[0m         ctx\u001b[39m=\u001b[39mctx,\n\u001b[1;32m    512\u001b[0m         cancellation_manager\u001b[39m=\u001b[39mcancellation_manager)\n",
      "File \u001b[0;32m~/miniconda3/envs/mlp/lib/python3.9/site-packages/tensorflow/python/eager/execute.py:54\u001b[0m, in \u001b[0;36mquick_execute\u001b[0;34m(op_name, num_outputs, inputs, attrs, ctx, name)\u001b[0m\n\u001b[1;32m     52\u001b[0m \u001b[39mtry\u001b[39;00m:\n\u001b[1;32m     53\u001b[0m   ctx\u001b[39m.\u001b[39mensure_initialized()\n\u001b[0;32m---> 54\u001b[0m   tensors \u001b[39m=\u001b[39m pywrap_tfe\u001b[39m.\u001b[39;49mTFE_Py_Execute(ctx\u001b[39m.\u001b[39;49m_handle, device_name, op_name,\n\u001b[1;32m     55\u001b[0m                                       inputs, attrs, num_outputs)\n\u001b[1;32m     56\u001b[0m \u001b[39mexcept\u001b[39;00m core\u001b[39m.\u001b[39m_NotOkStatusException \u001b[39mas\u001b[39;00m e:\n\u001b[1;32m     57\u001b[0m   \u001b[39mif\u001b[39;00m name \u001b[39mis\u001b[39;00m \u001b[39mnot\u001b[39;00m \u001b[39mNone\u001b[39;00m:\n",
      "\u001b[0;31mKeyboardInterrupt\u001b[0m: "
     ]
    }
   ],
   "source": [
    "# model = image_classifier.create(train_data, epochs=5)\n",
    "model = image_classifier.create(train_data, epochs=epoch, model_spec=spec, train_whole_model=False, validation_data=test_data, batch_size=bsize)\n",
    "\n",
    "\n",
    "print(\"exporting saved_model..\")\n",
    "model.export(export_dir=image_path + 'model_saved_model', export_format=ExportFormat.SAVED_MODEL)\n",
    "print(\"exporting label..\")\n",
    "model.export(export_dir=image_path + 'model_label', export_format=ExportFormat.LABEL)\n",
    "\n",
    "loss, accuracy = model.evaluate(test_data)"
   ]
  },
  {
   "cell_type": "code",
   "execution_count": null,
   "id": "5574c14c",
   "metadata": {},
   "outputs": [],
   "source": [
    "model.export(export_dir='.')"
   ]
  },
  {
   "cell_type": "code",
   "execution_count": 6,
   "id": "48d43446",
   "metadata": {},
   "outputs": [
    {
     "ename": "NameError",
     "evalue": "name 'model' is not defined",
     "output_type": "error",
     "traceback": [
      "\u001b[0;31m---------------------------------------------------------------------------\u001b[0m",
      "\u001b[0;31mNameError\u001b[0m                                 Traceback (most recent call last)",
      "Cell \u001b[0;32mIn [6], line 1\u001b[0m\n\u001b[0;32m----> 1\u001b[0m loss, accuracy \u001b[38;5;241m=\u001b[39m \u001b[43mmodel\u001b[49m\u001b[38;5;241m.\u001b[39mevaluate(test_data)\n",
      "\u001b[0;31mNameError\u001b[0m: name 'model' is not defined"
     ]
    }
   ],
   "source": [
    "loss, accuracy = model.evaluate(test_data)"
   ]
  },
  {
   "cell_type": "code",
   "execution_count": null,
   "id": "a4f30841",
   "metadata": {},
   "outputs": [],
   "source": []
  }
 ],
 "metadata": {
  "kernelspec": {
   "display_name": "Python 3 (ipykernel)",
   "language": "python",
   "name": "python3"
  },
  "language_info": {
   "codemirror_mode": {
    "name": "ipython",
    "version": 3
   },
   "file_extension": ".py",
   "mimetype": "text/x-python",
   "name": "python",
   "nbconvert_exporter": "python",
   "pygments_lexer": "ipython3",
   "version": "3.9.13"
  }
 },
 "nbformat": 4,
 "nbformat_minor": 5
}
